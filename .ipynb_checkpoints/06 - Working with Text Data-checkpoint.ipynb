{
 "cells": [
  {
   "cell_type": "code",
   "execution_count": 2,
   "metadata": {},
   "outputs": [],
   "source": [
    "import pandas as pd"
   ]
  },
  {
   "cell_type": "code",
   "execution_count": 3,
   "metadata": {
    "collapsed": true
   },
   "outputs": [
    {
     "data": {
      "text/html": [
       "<div>\n",
       "<style scoped>\n",
       "    .dataframe tbody tr th:only-of-type {\n",
       "        vertical-align: middle;\n",
       "    }\n",
       "\n",
       "    .dataframe tbody tr th {\n",
       "        vertical-align: top;\n",
       "    }\n",
       "\n",
       "    .dataframe thead th {\n",
       "        text-align: right;\n",
       "    }\n",
       "</style>\n",
       "<table border=\"1\" class=\"dataframe\">\n",
       "  <thead>\n",
       "    <tr style=\"text-align: right;\">\n",
       "      <th></th>\n",
       "      <th>Name</th>\n",
       "      <th>Position Title</th>\n",
       "      <th>Department</th>\n",
       "      <th>Employee Annual Salary</th>\n",
       "    </tr>\n",
       "  </thead>\n",
       "  <tbody>\n",
       "    <tr>\n",
       "      <th>0</th>\n",
       "      <td>AARON,  ELVIA J</td>\n",
       "      <td>WATER RATE TAKER</td>\n",
       "      <td>WATER MGMNT</td>\n",
       "      <td>$90744.00</td>\n",
       "    </tr>\n",
       "    <tr>\n",
       "      <th>1</th>\n",
       "      <td>AARON,  JEFFERY M</td>\n",
       "      <td>POLICE OFFICER</td>\n",
       "      <td>POLICE</td>\n",
       "      <td>$84450.00</td>\n",
       "    </tr>\n",
       "    <tr>\n",
       "      <th>2</th>\n",
       "      <td>AARON,  KARINA</td>\n",
       "      <td>POLICE OFFICER</td>\n",
       "      <td>POLICE</td>\n",
       "      <td>$84450.00</td>\n",
       "    </tr>\n",
       "  </tbody>\n",
       "</table>\n",
       "</div>"
      ],
      "text/plain": [
       "                Name    Position Title   Department Employee Annual Salary\n",
       "0    AARON,  ELVIA J  WATER RATE TAKER  WATER MGMNT              $90744.00\n",
       "1  AARON,  JEFFERY M    POLICE OFFICER       POLICE              $84450.00\n",
       "2     AARON,  KARINA    POLICE OFFICER       POLICE              $84450.00"
      ]
     },
     "execution_count": 3,
     "metadata": {},
     "output_type": "execute_result"
    }
   ],
   "source": [
    "chicago = pd.read_csv('data/chicago.csv')\n",
    "chicago['Department'] = chicago['Department'].astype('category')\n",
    "chicago.head(3)"
   ]
  },
  {
   "cell_type": "code",
   "execution_count": 4,
   "metadata": {
    "collapsed": true
   },
   "outputs": [
    {
     "name": "stdout",
     "output_type": "stream",
     "text": [
      "<class 'pandas.core.frame.DataFrame'>\n",
      "RangeIndex: 32063 entries, 0 to 32062\n",
      "Data columns (total 4 columns):\n",
      " #   Column                  Non-Null Count  Dtype \n",
      "---  ------                  --------------  ----- \n",
      " 0   Name                    32062 non-null  object\n",
      " 1   Position Title          32062 non-null  object\n",
      " 2   Department              32062 non-null  object\n",
      " 3   Employee Annual Salary  32062 non-null  object\n",
      "dtypes: object(4)\n",
      "memory usage: 1002.1+ KB\n"
     ]
    }
   ],
   "source": [
    "chicago.info()"
   ]
  },
  {
   "cell_type": "code",
   "execution_count": 6,
   "metadata": {},
   "outputs": [
    {
     "data": {
      "text/plain": [
       "35"
      ]
     },
     "execution_count": 6,
     "metadata": {},
     "output_type": "execute_result"
    }
   ],
   "source": [
    "chicago['Department'].nunique()"
   ]
  },
  {
   "cell_type": "code",
   "execution_count": 7,
   "metadata": {},
   "outputs": [
    {
     "data": {
      "text/plain": [
       "1093"
      ]
     },
     "execution_count": 7,
     "metadata": {},
     "output_type": "execute_result"
    }
   ],
   "source": [
    "chicago['Position Title'].nunique()"
   ]
  },
  {
   "cell_type": "code",
   "execution_count": 8,
   "metadata": {
    "collapsed": true
   },
   "outputs": [
    {
     "data": {
      "text/plain": [
       "Name                      31776\n",
       "Position Title             1093\n",
       "Department                   35\n",
       "Employee Annual Salary     1156\n",
       "dtype: int64"
      ]
     },
     "execution_count": 8,
     "metadata": {},
     "output_type": "execute_result"
    }
   ],
   "source": [
    "chicago.nunique()"
   ]
  },
  {
   "cell_type": "code",
   "execution_count": 10,
   "metadata": {
    "collapsed": true
   },
   "outputs": [
    {
     "name": "stdout",
     "output_type": "stream",
     "text": [
      "<class 'pandas.core.frame.DataFrame'>\n",
      "RangeIndex: 32063 entries, 0 to 32062\n",
      "Data columns (total 4 columns):\n",
      " #   Column                  Non-Null Count  Dtype   \n",
      "---  ------                  --------------  -----   \n",
      " 0   Name                    32062 non-null  object  \n",
      " 1   Position Title          32062 non-null  object  \n",
      " 2   Department              32062 non-null  category\n",
      " 3   Employee Annual Salary  32062 non-null  object  \n",
      "dtypes: category(1), object(3)\n",
      "memory usage: 784.4+ KB\n"
     ]
    }
   ],
   "source": [
    "chicago.info()"
   ]
  },
  {
   "cell_type": "markdown",
   "metadata": {},
   "source": [
    "# Common String Methods - <i>.lower(), .upper(), .title() and len()</i>"
   ]
  },
  {
   "cell_type": "code",
   "execution_count": 14,
   "metadata": {
    "collapsed": true
   },
   "outputs": [
    {
     "data": {
      "text/html": [
       "<div>\n",
       "<style scoped>\n",
       "    .dataframe tbody tr th:only-of-type {\n",
       "        vertical-align: middle;\n",
       "    }\n",
       "\n",
       "    .dataframe tbody tr th {\n",
       "        vertical-align: top;\n",
       "    }\n",
       "\n",
       "    .dataframe thead th {\n",
       "        text-align: right;\n",
       "    }\n",
       "</style>\n",
       "<table border=\"1\" class=\"dataframe\">\n",
       "  <thead>\n",
       "    <tr style=\"text-align: right;\">\n",
       "      <th></th>\n",
       "      <th>Name</th>\n",
       "      <th>Position Title</th>\n",
       "      <th>Department</th>\n",
       "      <th>Employee Annual Salary</th>\n",
       "    </tr>\n",
       "  </thead>\n",
       "  <tbody>\n",
       "    <tr>\n",
       "      <th>0</th>\n",
       "      <td>AARON,  ELVIA J</td>\n",
       "      <td>WATER RATE TAKER</td>\n",
       "      <td>WATER MGMNT</td>\n",
       "      <td>$90744.00</td>\n",
       "    </tr>\n",
       "    <tr>\n",
       "      <th>1</th>\n",
       "      <td>AARON,  JEFFERY M</td>\n",
       "      <td>POLICE OFFICER</td>\n",
       "      <td>POLICE</td>\n",
       "      <td>$84450.00</td>\n",
       "    </tr>\n",
       "    <tr>\n",
       "      <th>2</th>\n",
       "      <td>AARON,  KARINA</td>\n",
       "      <td>POLICE OFFICER</td>\n",
       "      <td>POLICE</td>\n",
       "      <td>$84450.00</td>\n",
       "    </tr>\n",
       "  </tbody>\n",
       "</table>\n",
       "</div>"
      ],
      "text/plain": [
       "                Name    Position Title   Department Employee Annual Salary\n",
       "0    AARON,  ELVIA J  WATER RATE TAKER  WATER MGMNT              $90744.00\n",
       "1  AARON,  JEFFERY M    POLICE OFFICER       POLICE              $84450.00\n",
       "2     AARON,  KARINA    POLICE OFFICER       POLICE              $84450.00"
      ]
     },
     "execution_count": 14,
     "metadata": {},
     "output_type": "execute_result"
    }
   ],
   "source": [
    "chicago = pd.read_csv('data/chicago.csv')\n",
    "chicago['Department'] = chicago['Department'].astype('category')\n",
    "chicago.head(3)"
   ]
  },
  {
   "cell_type": "code",
   "execution_count": 18,
   "metadata": {
    "collapsed": true
   },
   "outputs": [
    {
     "data": {
      "text/plain": [
       "0            AARON,  ELVIA J\n",
       "1          AARON,  JEFFERY M\n",
       "2             AARON,  KARINA\n",
       "3        AARON,  KIMBERLEI R\n",
       "4        ABAD JR,  VICENTE M\n",
       "                ...         \n",
       "32058     ZYGOWICZ,  PETER J\n",
       "32059      ZYMANTAS,  MARK E\n",
       "32060    ZYRKOWSKI,  CARLO E\n",
       "32061    ZYSKOWSKI,  DARIUSZ\n",
       "32062                    NaN\n",
       "Name: Name, Length: 32063, dtype: object"
      ]
     },
     "execution_count": 18,
     "metadata": {},
     "output_type": "execute_result"
    }
   ],
   "source": [
    "chicago['Name'].str.lower().str.upper()"
   ]
  },
  {
   "cell_type": "code",
   "execution_count": 19,
   "metadata": {
    "collapsed": true
   },
   "outputs": [
    {
     "data": {
      "text/plain": [
       "0            Aaron,  Elvia J\n",
       "1          Aaron,  Jeffery M\n",
       "2             Aaron,  Karina\n",
       "3        Aaron,  Kimberlei R\n",
       "4        Abad Jr,  Vicente M\n",
       "                ...         \n",
       "32058     Zygowicz,  Peter J\n",
       "32059      Zymantas,  Mark E\n",
       "32060    Zyrkowski,  Carlo E\n",
       "32061    Zyskowski,  Dariusz\n",
       "32062                    NaN\n",
       "Name: Name, Length: 32063, dtype: object"
      ]
     },
     "execution_count": 19,
     "metadata": {},
     "output_type": "execute_result"
    }
   ],
   "source": [
    "chicago['Name'].str.title()"
   ]
  },
  {
   "cell_type": "code",
   "execution_count": 20,
   "metadata": {
    "collapsed": true
   },
   "outputs": [
    {
     "data": {
      "text/plain": [
       "0                Water Rate Taker\n",
       "1                  Police Officer\n",
       "2                  Police Officer\n",
       "3        Chief Contract Expediter\n",
       "4               Civil Engineer Iv\n",
       "                   ...           \n",
       "32058              Police Officer\n",
       "32059              Police Officer\n",
       "32060              Police Officer\n",
       "32061     Chief Data Base Analyst\n",
       "32062                         NaN\n",
       "Name: Position Title, Length: 32063, dtype: object"
      ]
     },
     "execution_count": 20,
     "metadata": {},
     "output_type": "execute_result"
    }
   ],
   "source": [
    "chicago['Position Title'].str.title()"
   ]
  },
  {
   "cell_type": "code",
   "execution_count": 21,
   "metadata": {
    "collapsed": true
   },
   "outputs": [
    {
     "data": {
      "text/plain": [
       "0             Water Mgmnt\n",
       "1                  Police\n",
       "2                  Police\n",
       "3        General Services\n",
       "4             Water Mgmnt\n",
       "               ...       \n",
       "32058              Police\n",
       "32059              Police\n",
       "32060              Police\n",
       "32061                Doit\n",
       "32062                 NaN\n",
       "Name: Department, Length: 32063, dtype: object"
      ]
     },
     "execution_count": 21,
     "metadata": {},
     "output_type": "execute_result"
    }
   ],
   "source": [
    "chicago['Department'].str.title()"
   ]
  },
  {
   "cell_type": "code",
   "execution_count": 23,
   "metadata": {},
   "outputs": [],
   "source": [
    "chicago['Position Title'] = chicago['Position Title'].str.title()"
   ]
  },
  {
   "cell_type": "code",
   "execution_count": 25,
   "metadata": {
    "collapsed": true
   },
   "outputs": [
    {
     "data": {
      "text/plain": [
       "0        11.0\n",
       "1         6.0\n",
       "2         6.0\n",
       "3        16.0\n",
       "4        11.0\n",
       "         ... \n",
       "32058     6.0\n",
       "32059     6.0\n",
       "32060     6.0\n",
       "32061     4.0\n",
       "32062     NaN\n",
       "Name: Department, Length: 32063, dtype: float64"
      ]
     },
     "execution_count": 25,
     "metadata": {},
     "output_type": "execute_result"
    }
   ],
   "source": [
    "chicago['Department'].str.len()"
   ]
  },
  {
   "cell_type": "markdown",
   "metadata": {},
   "source": [
    "# The <i>.str.replace()</i> Method"
   ]
  },
  {
   "cell_type": "code",
   "execution_count": 29,
   "metadata": {
    "collapsed": true
   },
   "outputs": [
    {
     "data": {
      "text/html": [
       "<div>\n",
       "<style scoped>\n",
       "    .dataframe tbody tr th:only-of-type {\n",
       "        vertical-align: middle;\n",
       "    }\n",
       "\n",
       "    .dataframe tbody tr th {\n",
       "        vertical-align: top;\n",
       "    }\n",
       "\n",
       "    .dataframe thead th {\n",
       "        text-align: right;\n",
       "    }\n",
       "</style>\n",
       "<table border=\"1\" class=\"dataframe\">\n",
       "  <thead>\n",
       "    <tr style=\"text-align: right;\">\n",
       "      <th></th>\n",
       "      <th>Name</th>\n",
       "      <th>Position Title</th>\n",
       "      <th>Department</th>\n",
       "      <th>Employee Annual Salary</th>\n",
       "    </tr>\n",
       "  </thead>\n",
       "  <tbody>\n",
       "    <tr>\n",
       "      <th>0</th>\n",
       "      <td>AARON,  ELVIA J</td>\n",
       "      <td>WATER RATE TAKER</td>\n",
       "      <td>WATER MGMNT</td>\n",
       "      <td>$90744.00</td>\n",
       "    </tr>\n",
       "    <tr>\n",
       "      <th>1</th>\n",
       "      <td>AARON,  JEFFERY M</td>\n",
       "      <td>POLICE OFFICER</td>\n",
       "      <td>POLICE</td>\n",
       "      <td>$84450.00</td>\n",
       "    </tr>\n",
       "    <tr>\n",
       "      <th>2</th>\n",
       "      <td>AARON,  KARINA</td>\n",
       "      <td>POLICE OFFICER</td>\n",
       "      <td>POLICE</td>\n",
       "      <td>$84450.00</td>\n",
       "    </tr>\n",
       "  </tbody>\n",
       "</table>\n",
       "</div>"
      ],
      "text/plain": [
       "                Name    Position Title   Department Employee Annual Salary\n",
       "0    AARON,  ELVIA J  WATER RATE TAKER  WATER MGMNT              $90744.00\n",
       "1  AARON,  JEFFERY M    POLICE OFFICER       POLICE              $84450.00\n",
       "2     AARON,  KARINA    POLICE OFFICER       POLICE              $84450.00"
      ]
     },
     "execution_count": 29,
     "metadata": {},
     "output_type": "execute_result"
    }
   ],
   "source": [
    "chicago = pd.read_csv('data/chicago.csv').dropna(how = 'all')\n",
    "chicago['Department'] = chicago['Department'].astype('category')\n",
    "chicago.head(3)"
   ]
  },
  {
   "cell_type": "code",
   "execution_count": 33,
   "metadata": {},
   "outputs": [],
   "source": [
    "chicago['Department'] = chicago['Department'].str.replace('MGMNT', 'MANAGEMENT')"
   ]
  },
  {
   "cell_type": "code",
   "execution_count": 38,
   "metadata": {},
   "outputs": [],
   "source": [
    "chicago['Employee Annual Salary'] = chicago['Employee Annual Salary'].str.replace('$', '').astype(float)"
   ]
  },
  {
   "cell_type": "code",
   "execution_count": 40,
   "metadata": {},
   "outputs": [
    {
     "data": {
      "text/plain": [
       "2571506375.36"
      ]
     },
     "execution_count": 40,
     "metadata": {},
     "output_type": "execute_result"
    }
   ],
   "source": [
    "chicago['Employee Annual Salary'].sum()"
   ]
  },
  {
   "cell_type": "code",
   "execution_count": 41,
   "metadata": {},
   "outputs": [
    {
     "data": {
      "text/plain": [
       "80204.17863389682"
      ]
     },
     "execution_count": 41,
     "metadata": {},
     "output_type": "execute_result"
    }
   ],
   "source": [
    "chicago['Employee Annual Salary'].mean()"
   ]
  },
  {
   "cell_type": "code",
   "execution_count": 42,
   "metadata": {},
   "outputs": [
    {
     "data": {
      "text/plain": [
       "25098.32986750994"
      ]
     },
     "execution_count": 42,
     "metadata": {},
     "output_type": "execute_result"
    }
   ],
   "source": [
    "chicago['Employee Annual Salary'].std()"
   ]
  },
  {
   "cell_type": "code",
   "execution_count": 46,
   "metadata": {
    "collapsed": true
   },
   "outputs": [
    {
     "data": {
      "text/plain": [
       "8184     300000.0\n",
       "7954     216210.0\n",
       "25532    202728.0\n",
       "8924     197736.0\n",
       "8042     197724.0\n",
       "19208    195000.0\n",
       "3706     187680.0\n",
       "18556    187680.0\n",
       "29466    187680.0\n",
       "13754    185364.0\n",
       "Name: Employee Annual Salary, dtype: float64"
      ]
     },
     "execution_count": 46,
     "metadata": {},
     "output_type": "execute_result"
    }
   ],
   "source": [
    "chicago['Employee Annual Salary'].nlargest(10)"
   ]
  },
  {
   "cell_type": "code",
   "execution_count": 47,
   "metadata": {
    "collapsed": true
   },
   "outputs": [
    {
     "data": {
      "text/plain": [
       "15102       0.96\n",
       "12       2756.00\n",
       "27       2756.00\n",
       "47       2756.00\n",
       "295      2756.00\n",
       "380      2756.00\n",
       "686      2756.00\n",
       "751      2756.00\n",
       "959      2756.00\n",
       "1093     2756.00\n",
       "Name: Employee Annual Salary, dtype: float64"
      ]
     },
     "execution_count": 47,
     "metadata": {},
     "output_type": "execute_result"
    }
   ],
   "source": [
    "chicago['Employee Annual Salary'].nsmallest(10)"
   ]
  },
  {
   "cell_type": "markdown",
   "metadata": {},
   "source": [
    "# Filtering with String Methods"
   ]
  },
  {
   "cell_type": "code",
   "execution_count": 48,
   "metadata": {
    "collapsed": true
   },
   "outputs": [
    {
     "data": {
      "text/html": [
       "<div>\n",
       "<style scoped>\n",
       "    .dataframe tbody tr th:only-of-type {\n",
       "        vertical-align: middle;\n",
       "    }\n",
       "\n",
       "    .dataframe tbody tr th {\n",
       "        vertical-align: top;\n",
       "    }\n",
       "\n",
       "    .dataframe thead th {\n",
       "        text-align: right;\n",
       "    }\n",
       "</style>\n",
       "<table border=\"1\" class=\"dataframe\">\n",
       "  <thead>\n",
       "    <tr style=\"text-align: right;\">\n",
       "      <th></th>\n",
       "      <th>Name</th>\n",
       "      <th>Position Title</th>\n",
       "      <th>Department</th>\n",
       "      <th>Employee Annual Salary</th>\n",
       "    </tr>\n",
       "  </thead>\n",
       "  <tbody>\n",
       "    <tr>\n",
       "      <th>0</th>\n",
       "      <td>AARON,  ELVIA J</td>\n",
       "      <td>WATER RATE TAKER</td>\n",
       "      <td>WATER MGMNT</td>\n",
       "      <td>$90744.00</td>\n",
       "    </tr>\n",
       "    <tr>\n",
       "      <th>1</th>\n",
       "      <td>AARON,  JEFFERY M</td>\n",
       "      <td>POLICE OFFICER</td>\n",
       "      <td>POLICE</td>\n",
       "      <td>$84450.00</td>\n",
       "    </tr>\n",
       "    <tr>\n",
       "      <th>2</th>\n",
       "      <td>AARON,  KARINA</td>\n",
       "      <td>POLICE OFFICER</td>\n",
       "      <td>POLICE</td>\n",
       "      <td>$84450.00</td>\n",
       "    </tr>\n",
       "  </tbody>\n",
       "</table>\n",
       "</div>"
      ],
      "text/plain": [
       "                Name    Position Title   Department Employee Annual Salary\n",
       "0    AARON,  ELVIA J  WATER RATE TAKER  WATER MGMNT              $90744.00\n",
       "1  AARON,  JEFFERY M    POLICE OFFICER       POLICE              $84450.00\n",
       "2     AARON,  KARINA    POLICE OFFICER       POLICE              $84450.00"
      ]
     },
     "execution_count": 48,
     "metadata": {},
     "output_type": "execute_result"
    }
   ],
   "source": [
    "chicago = pd.read_csv('data/chicago.csv').dropna(how = 'all')\n",
    "chicago['Department'] = chicago['Department'].astype('category')\n",
    "chicago.head(3)"
   ]
  },
  {
   "cell_type": "code",
   "execution_count": 49,
   "metadata": {
    "collapsed": true
   },
   "outputs": [
    {
     "data": {
      "text/html": [
       "<div>\n",
       "<style scoped>\n",
       "    .dataframe tbody tr th:only-of-type {\n",
       "        vertical-align: middle;\n",
       "    }\n",
       "\n",
       "    .dataframe tbody tr th {\n",
       "        vertical-align: top;\n",
       "    }\n",
       "\n",
       "    .dataframe thead th {\n",
       "        text-align: right;\n",
       "    }\n",
       "</style>\n",
       "<table border=\"1\" class=\"dataframe\">\n",
       "  <thead>\n",
       "    <tr style=\"text-align: right;\">\n",
       "      <th></th>\n",
       "      <th>Name</th>\n",
       "      <th>Position Title</th>\n",
       "      <th>Department</th>\n",
       "      <th>Employee Annual Salary</th>\n",
       "    </tr>\n",
       "  </thead>\n",
       "  <tbody>\n",
       "    <tr>\n",
       "      <th>0</th>\n",
       "      <td>AARON,  ELVIA J</td>\n",
       "      <td>WATER RATE TAKER</td>\n",
       "      <td>WATER MGMNT</td>\n",
       "      <td>$90744.00</td>\n",
       "    </tr>\n",
       "    <tr>\n",
       "      <th>554</th>\n",
       "      <td>ALUISE,  VINCENT G</td>\n",
       "      <td>FOREMAN OF WATER PIPE CONSTRUCTION</td>\n",
       "      <td>WATER MGMNT</td>\n",
       "      <td>$102440.00</td>\n",
       "    </tr>\n",
       "    <tr>\n",
       "      <th>671</th>\n",
       "      <td>ANDER,  PERRY A</td>\n",
       "      <td>WATER CHEMIST II</td>\n",
       "      <td>WATER MGMNT</td>\n",
       "      <td>$82044.00</td>\n",
       "    </tr>\n",
       "    <tr>\n",
       "      <th>685</th>\n",
       "      <td>ANDERSON,  ANDREW J</td>\n",
       "      <td>DISTRICT SUPERINTENDENT OF WATER DISTRIBUTION</td>\n",
       "      <td>WATER MGMNT</td>\n",
       "      <td>$109272.00</td>\n",
       "    </tr>\n",
       "    <tr>\n",
       "      <th>702</th>\n",
       "      <td>ANDERSON,  DONALD</td>\n",
       "      <td>FOREMAN OF WATER PIPE CONSTRUCTION</td>\n",
       "      <td>WATER MGMNT</td>\n",
       "      <td>$102440.00</td>\n",
       "    </tr>\n",
       "    <tr>\n",
       "      <th>...</th>\n",
       "      <td>...</td>\n",
       "      <td>...</td>\n",
       "      <td>...</td>\n",
       "      <td>...</td>\n",
       "    </tr>\n",
       "    <tr>\n",
       "      <th>29669</th>\n",
       "      <td>VERMA,  ANUPAM</td>\n",
       "      <td>MANAGING ENGINEER - WATER MANAGEMENT</td>\n",
       "      <td>WATER MGMNT</td>\n",
       "      <td>$111192.00</td>\n",
       "    </tr>\n",
       "    <tr>\n",
       "      <th>30239</th>\n",
       "      <td>WASHINGTON,  JOSEPH</td>\n",
       "      <td>WATER CHEMIST III</td>\n",
       "      <td>WATER MGMNT</td>\n",
       "      <td>$89676.00</td>\n",
       "    </tr>\n",
       "    <tr>\n",
       "      <th>30544</th>\n",
       "      <td>WEST,  THOMAS R</td>\n",
       "      <td>GEN SUPT OF WATER MANAGEMENT</td>\n",
       "      <td>WATER MGMNT</td>\n",
       "      <td>$115704.00</td>\n",
       "    </tr>\n",
       "    <tr>\n",
       "      <th>30991</th>\n",
       "      <td>WILLIAMS,  MATTHEW</td>\n",
       "      <td>FOREMAN OF WATER PIPE CONSTRUCTION</td>\n",
       "      <td>WATER MGMNT</td>\n",
       "      <td>$102440.00</td>\n",
       "    </tr>\n",
       "    <tr>\n",
       "      <th>31405</th>\n",
       "      <td>WOODRIDGE,  ROBERT L</td>\n",
       "      <td>FOREMAN OF WATER PIPE CONSTRUCTION</td>\n",
       "      <td>WATER MGMNT</td>\n",
       "      <td>$102440.00</td>\n",
       "    </tr>\n",
       "  </tbody>\n",
       "</table>\n",
       "<p>111 rows × 4 columns</p>\n",
       "</div>"
      ],
      "text/plain": [
       "                       Name                                 Position Title  \\\n",
       "0           AARON,  ELVIA J                               WATER RATE TAKER   \n",
       "554      ALUISE,  VINCENT G             FOREMAN OF WATER PIPE CONSTRUCTION   \n",
       "671         ANDER,  PERRY A                               WATER CHEMIST II   \n",
       "685     ANDERSON,  ANDREW J  DISTRICT SUPERINTENDENT OF WATER DISTRIBUTION   \n",
       "702       ANDERSON,  DONALD             FOREMAN OF WATER PIPE CONSTRUCTION   \n",
       "...                     ...                                            ...   \n",
       "29669        VERMA,  ANUPAM           MANAGING ENGINEER - WATER MANAGEMENT   \n",
       "30239   WASHINGTON,  JOSEPH                              WATER CHEMIST III   \n",
       "30544       WEST,  THOMAS R                   GEN SUPT OF WATER MANAGEMENT   \n",
       "30991    WILLIAMS,  MATTHEW             FOREMAN OF WATER PIPE CONSTRUCTION   \n",
       "31405  WOODRIDGE,  ROBERT L             FOREMAN OF WATER PIPE CONSTRUCTION   \n",
       "\n",
       "        Department Employee Annual Salary  \n",
       "0      WATER MGMNT              $90744.00  \n",
       "554    WATER MGMNT             $102440.00  \n",
       "671    WATER MGMNT              $82044.00  \n",
       "685    WATER MGMNT             $109272.00  \n",
       "702    WATER MGMNT             $102440.00  \n",
       "...            ...                    ...  \n",
       "29669  WATER MGMNT             $111192.00  \n",
       "30239  WATER MGMNT              $89676.00  \n",
       "30544  WATER MGMNT             $115704.00  \n",
       "30991  WATER MGMNT             $102440.00  \n",
       "31405  WATER MGMNT             $102440.00  \n",
       "\n",
       "[111 rows x 4 columns]"
      ]
     },
     "execution_count": 49,
     "metadata": {},
     "output_type": "execute_result"
    }
   ],
   "source": [
    "mask = chicago['Position Title'].str.lower().str.contains('water')\n",
    "chicago[mask]"
   ]
  },
  {
   "cell_type": "code",
   "execution_count": 51,
   "metadata": {
    "collapsed": true
   },
   "outputs": [
    {
     "data": {
      "text/html": [
       "<div>\n",
       "<style scoped>\n",
       "    .dataframe tbody tr th:only-of-type {\n",
       "        vertical-align: middle;\n",
       "    }\n",
       "\n",
       "    .dataframe tbody tr th {\n",
       "        vertical-align: top;\n",
       "    }\n",
       "\n",
       "    .dataframe thead th {\n",
       "        text-align: right;\n",
       "    }\n",
       "</style>\n",
       "<table border=\"1\" class=\"dataframe\">\n",
       "  <thead>\n",
       "    <tr style=\"text-align: right;\">\n",
       "      <th></th>\n",
       "      <th>Name</th>\n",
       "      <th>Position Title</th>\n",
       "      <th>Department</th>\n",
       "      <th>Employee Annual Salary</th>\n",
       "    </tr>\n",
       "  </thead>\n",
       "  <tbody>\n",
       "    <tr>\n",
       "      <th>0</th>\n",
       "      <td>AARON,  ELVIA J</td>\n",
       "      <td>WATER RATE TAKER</td>\n",
       "      <td>WATER MGMNT</td>\n",
       "      <td>$90744.00</td>\n",
       "    </tr>\n",
       "    <tr>\n",
       "      <th>671</th>\n",
       "      <td>ANDER,  PERRY A</td>\n",
       "      <td>WATER CHEMIST II</td>\n",
       "      <td>WATER MGMNT</td>\n",
       "      <td>$82044.00</td>\n",
       "    </tr>\n",
       "    <tr>\n",
       "      <th>1054</th>\n",
       "      <td>ASHLEY,  KARMA T</td>\n",
       "      <td>WATER CHEMIST II</td>\n",
       "      <td>WATER MGMNT</td>\n",
       "      <td>$82044.00</td>\n",
       "    </tr>\n",
       "    <tr>\n",
       "      <th>1079</th>\n",
       "      <td>ATKINS,  JOANNA M</td>\n",
       "      <td>WATER CHEMIST II</td>\n",
       "      <td>WATER MGMNT</td>\n",
       "      <td>$82044.00</td>\n",
       "    </tr>\n",
       "    <tr>\n",
       "      <th>1181</th>\n",
       "      <td>AZEEM,  MOHAMMED A</td>\n",
       "      <td>WATER CHEMIST II</td>\n",
       "      <td>WATER MGMNT</td>\n",
       "      <td>$53172.00</td>\n",
       "    </tr>\n",
       "    <tr>\n",
       "      <th>...</th>\n",
       "      <td>...</td>\n",
       "      <td>...</td>\n",
       "      <td>...</td>\n",
       "      <td>...</td>\n",
       "    </tr>\n",
       "    <tr>\n",
       "      <th>28574</th>\n",
       "      <td>THREATT,  DENISE R</td>\n",
       "      <td>WATER QUALITY INSPECTOR</td>\n",
       "      <td>WATER MGMNT</td>\n",
       "      <td>$62004.00</td>\n",
       "    </tr>\n",
       "    <tr>\n",
       "      <th>28602</th>\n",
       "      <td>TIGNOR,  DARRYL B</td>\n",
       "      <td>WATER RATE TAKER</td>\n",
       "      <td>WATER MGMNT</td>\n",
       "      <td>$78948.00</td>\n",
       "    </tr>\n",
       "    <tr>\n",
       "      <th>28955</th>\n",
       "      <td>TRAVIS COOK,  LESLIE R</td>\n",
       "      <td>WATER RATE TAKER</td>\n",
       "      <td>WATER MGMNT</td>\n",
       "      <td>$78948.00</td>\n",
       "    </tr>\n",
       "    <tr>\n",
       "      <th>29584</th>\n",
       "      <td>VELAZQUEZ,  JOHN</td>\n",
       "      <td>WATER RATE TAKER</td>\n",
       "      <td>WATER MGMNT</td>\n",
       "      <td>$78948.00</td>\n",
       "    </tr>\n",
       "    <tr>\n",
       "      <th>30239</th>\n",
       "      <td>WASHINGTON,  JOSEPH</td>\n",
       "      <td>WATER CHEMIST III</td>\n",
       "      <td>WATER MGMNT</td>\n",
       "      <td>$89676.00</td>\n",
       "    </tr>\n",
       "  </tbody>\n",
       "</table>\n",
       "<p>75 rows × 4 columns</p>\n",
       "</div>"
      ],
      "text/plain": [
       "                         Name           Position Title   Department  \\\n",
       "0             AARON,  ELVIA J         WATER RATE TAKER  WATER MGMNT   \n",
       "671           ANDER,  PERRY A         WATER CHEMIST II  WATER MGMNT   \n",
       "1054         ASHLEY,  KARMA T         WATER CHEMIST II  WATER MGMNT   \n",
       "1079        ATKINS,  JOANNA M         WATER CHEMIST II  WATER MGMNT   \n",
       "1181       AZEEM,  MOHAMMED A         WATER CHEMIST II  WATER MGMNT   \n",
       "...                       ...                      ...          ...   \n",
       "28574      THREATT,  DENISE R  WATER QUALITY INSPECTOR  WATER MGMNT   \n",
       "28602       TIGNOR,  DARRYL B         WATER RATE TAKER  WATER MGMNT   \n",
       "28955  TRAVIS COOK,  LESLIE R         WATER RATE TAKER  WATER MGMNT   \n",
       "29584        VELAZQUEZ,  JOHN         WATER RATE TAKER  WATER MGMNT   \n",
       "30239     WASHINGTON,  JOSEPH        WATER CHEMIST III  WATER MGMNT   \n",
       "\n",
       "      Employee Annual Salary  \n",
       "0                  $90744.00  \n",
       "671                $82044.00  \n",
       "1054               $82044.00  \n",
       "1079               $82044.00  \n",
       "1181               $53172.00  \n",
       "...                      ...  \n",
       "28574              $62004.00  \n",
       "28602              $78948.00  \n",
       "28955              $78948.00  \n",
       "29584              $78948.00  \n",
       "30239              $89676.00  \n",
       "\n",
       "[75 rows x 4 columns]"
      ]
     },
     "execution_count": 51,
     "metadata": {},
     "output_type": "execute_result"
    }
   ],
   "source": [
    "chicago[chicago['Position Title'].str.lower().str.startswith('water')]"
   ]
  },
  {
   "cell_type": "code",
   "execution_count": 21,
   "metadata": {
    "collapsed": true
   },
   "outputs": [
    {
     "data": {
      "text/html": [
       "<div>\n",
       "<style scoped>\n",
       "    .dataframe tbody tr th:only-of-type {\n",
       "        vertical-align: middle;\n",
       "    }\n",
       "\n",
       "    .dataframe tbody tr th {\n",
       "        vertical-align: top;\n",
       "    }\n",
       "\n",
       "    .dataframe thead th {\n",
       "        text-align: right;\n",
       "    }\n",
       "</style>\n",
       "<table border=\"1\" class=\"dataframe\">\n",
       "  <thead>\n",
       "    <tr style=\"text-align: right;\">\n",
       "      <th></th>\n",
       "      <th>Position Title</th>\n",
       "      <th>Department</th>\n",
       "      <th>Employee Annual Salary</th>\n",
       "    </tr>\n",
       "    <tr>\n",
       "      <th>Name</th>\n",
       "      <th></th>\n",
       "      <th></th>\n",
       "      <th></th>\n",
       "    </tr>\n",
       "  </thead>\n",
       "  <tbody>\n",
       "    <tr>\n",
       "      <th>AFROZ,  NAYYAR</th>\n",
       "      <td>PSYCHIATRIST</td>\n",
       "      <td>HEALTH</td>\n",
       "      <td>$99840.00</td>\n",
       "    </tr>\n",
       "    <tr>\n",
       "      <th>ALARCON,  LUIS J</th>\n",
       "      <td>LOAN PROCESSING SPECIALIST</td>\n",
       "      <td>COMMUNITY DEVELOPMENT</td>\n",
       "      <td>$81948.00</td>\n",
       "    </tr>\n",
       "    <tr>\n",
       "      <th>ALLAIN,  CAROLYN</th>\n",
       "      <td>SENIOR TELECOMMUNICATIONS SPECIALIST</td>\n",
       "      <td>DoIT</td>\n",
       "      <td>$89880.00</td>\n",
       "    </tr>\n",
       "    <tr>\n",
       "      <th>ALLEN,  ROBERT</th>\n",
       "      <td>MACHINIST</td>\n",
       "      <td>WATER MGMNT</td>\n",
       "      <td>$94328.00</td>\n",
       "    </tr>\n",
       "    <tr>\n",
       "      <th>ANDERSON,  EDWARD M</th>\n",
       "      <td>SR PROCUREMENT SPECIALIST</td>\n",
       "      <td>PROCUREMENT</td>\n",
       "      <td>$91476.00</td>\n",
       "    </tr>\n",
       "    <tr>\n",
       "      <th>...</th>\n",
       "      <td>...</td>\n",
       "      <td>...</td>\n",
       "      <td>...</td>\n",
       "    </tr>\n",
       "    <tr>\n",
       "      <th>YODER,  TERESA G</th>\n",
       "      <td>ARCHIVAL SPECIALIST</td>\n",
       "      <td>PUBLIC LIBRARY</td>\n",
       "      <td>$74304.00</td>\n",
       "    </tr>\n",
       "    <tr>\n",
       "      <th>YOUNGBLOOM,  LAURENCE G</th>\n",
       "      <td>CRIMES SURVEILLANCE SPECIALIST</td>\n",
       "      <td>OEMC</td>\n",
       "      <td>$19676.80</td>\n",
       "    </tr>\n",
       "    <tr>\n",
       "      <th>YOUNG,  KIMBERLY M</th>\n",
       "      <td>SR PROCUREMENT SPECIALIST</td>\n",
       "      <td>PROCUREMENT</td>\n",
       "      <td>$68556.00</td>\n",
       "    </tr>\n",
       "    <tr>\n",
       "      <th>ZAPATA,  HUGO</th>\n",
       "      <td>SR PROCUREMENT SPECIALIST</td>\n",
       "      <td>PROCUREMENT</td>\n",
       "      <td>$87324.00</td>\n",
       "    </tr>\n",
       "    <tr>\n",
       "      <th>ZEMKE,  RICHARD P</th>\n",
       "      <td>MACHINIST</td>\n",
       "      <td>AVIATION</td>\n",
       "      <td>$94328.00</td>\n",
       "    </tr>\n",
       "  </tbody>\n",
       "</table>\n",
       "<p>172 rows × 3 columns</p>\n",
       "</div>"
      ],
      "text/plain": [
       "                                               Position Title  \\\n",
       "Name                                                            \n",
       "AFROZ,  NAYYAR                                   PSYCHIATRIST   \n",
       "ALARCON,  LUIS J                   LOAN PROCESSING SPECIALIST   \n",
       "ALLAIN,  CAROLYN         SENIOR TELECOMMUNICATIONS SPECIALIST   \n",
       "ALLEN,  ROBERT                                      MACHINIST   \n",
       "ANDERSON,  EDWARD M                 SR PROCUREMENT SPECIALIST   \n",
       "...                                                       ...   \n",
       "YODER,  TERESA G                          ARCHIVAL SPECIALIST   \n",
       "YOUNGBLOOM,  LAURENCE G        CRIMES SURVEILLANCE SPECIALIST   \n",
       "YOUNG,  KIMBERLY M                  SR PROCUREMENT SPECIALIST   \n",
       "ZAPATA,  HUGO                       SR PROCUREMENT SPECIALIST   \n",
       "ZEMKE,  RICHARD P                                   MACHINIST   \n",
       "\n",
       "                                    Department Employee Annual Salary  \n",
       "Name                                                                   \n",
       "AFROZ,  NAYYAR                          HEALTH              $99840.00  \n",
       "ALARCON,  LUIS J         COMMUNITY DEVELOPMENT              $81948.00  \n",
       "ALLAIN,  CAROLYN                          DoIT              $89880.00  \n",
       "ALLEN,  ROBERT                     WATER MGMNT              $94328.00  \n",
       "ANDERSON,  EDWARD M                PROCUREMENT              $91476.00  \n",
       "...                                        ...                    ...  \n",
       "YODER,  TERESA G                PUBLIC LIBRARY              $74304.00  \n",
       "YOUNGBLOOM,  LAURENCE G                   OEMC              $19676.80  \n",
       "YOUNG,  KIMBERLY M                 PROCUREMENT              $68556.00  \n",
       "ZAPATA,  HUGO                      PROCUREMENT              $87324.00  \n",
       "ZEMKE,  RICHARD P                     AVIATION              $94328.00  \n",
       "\n",
       "[172 rows x 3 columns]"
      ]
     },
     "execution_count": 21,
     "metadata": {},
     "output_type": "execute_result"
    }
   ],
   "source": [
    "chicago[chicago['Position Title'].str.lower().str.endswith('ist')]"
   ]
  },
  {
   "cell_type": "markdown",
   "metadata": {},
   "source": [
    "# More String Methods - <i>.strip(), .lstrip() and .rstrip()</i>"
   ]
  },
  {
   "cell_type": "code",
   "execution_count": 53,
   "metadata": {
    "collapsed": true
   },
   "outputs": [
    {
     "data": {
      "text/html": [
       "<div>\n",
       "<style scoped>\n",
       "    .dataframe tbody tr th:only-of-type {\n",
       "        vertical-align: middle;\n",
       "    }\n",
       "\n",
       "    .dataframe tbody tr th {\n",
       "        vertical-align: top;\n",
       "    }\n",
       "\n",
       "    .dataframe thead th {\n",
       "        text-align: right;\n",
       "    }\n",
       "</style>\n",
       "<table border=\"1\" class=\"dataframe\">\n",
       "  <thead>\n",
       "    <tr style=\"text-align: right;\">\n",
       "      <th></th>\n",
       "      <th>Name</th>\n",
       "      <th>Position Title</th>\n",
       "      <th>Department</th>\n",
       "      <th>Employee Annual Salary</th>\n",
       "    </tr>\n",
       "  </thead>\n",
       "  <tbody>\n",
       "    <tr>\n",
       "      <th>0</th>\n",
       "      <td>AARON,  ELVIA J</td>\n",
       "      <td>WATER RATE TAKER</td>\n",
       "      <td>WATER MGMNT</td>\n",
       "      <td>$90744.00</td>\n",
       "    </tr>\n",
       "    <tr>\n",
       "      <th>1</th>\n",
       "      <td>AARON,  JEFFERY M</td>\n",
       "      <td>POLICE OFFICER</td>\n",
       "      <td>POLICE</td>\n",
       "      <td>$84450.00</td>\n",
       "    </tr>\n",
       "    <tr>\n",
       "      <th>2</th>\n",
       "      <td>AARON,  KARINA</td>\n",
       "      <td>POLICE OFFICER</td>\n",
       "      <td>POLICE</td>\n",
       "      <td>$84450.00</td>\n",
       "    </tr>\n",
       "  </tbody>\n",
       "</table>\n",
       "</div>"
      ],
      "text/plain": [
       "                Name    Position Title   Department Employee Annual Salary\n",
       "0    AARON,  ELVIA J  WATER RATE TAKER  WATER MGMNT              $90744.00\n",
       "1  AARON,  JEFFERY M    POLICE OFFICER       POLICE              $84450.00\n",
       "2     AARON,  KARINA    POLICE OFFICER       POLICE              $84450.00"
      ]
     },
     "execution_count": 53,
     "metadata": {},
     "output_type": "execute_result"
    }
   ],
   "source": [
    "chicago = pd.read_csv('data/chicago.csv').dropna(how = 'all')\n",
    "chicago['Department'] = chicago['Department'].astype('category')\n",
    "chicago.head(3)"
   ]
  },
  {
   "cell_type": "code",
   "execution_count": 54,
   "metadata": {},
   "outputs": [],
   "source": [
    "chicago['Name'] = chicago['Name'].str.rstrip().str.lstrip()"
   ]
  },
  {
   "cell_type": "code",
   "execution_count": 56,
   "metadata": {
    "scrolled": true
   },
   "outputs": [],
   "source": [
    "chicago['Position Title'] = chicago['Position Title'].str.strip()"
   ]
  },
  {
   "cell_type": "markdown",
   "metadata": {},
   "source": [
    "# String Methods on Index and Columns"
   ]
  },
  {
   "cell_type": "code",
   "execution_count": 4,
   "metadata": {
    "collapsed": true
   },
   "outputs": [
    {
     "data": {
      "text/html": [
       "<div>\n",
       "<style scoped>\n",
       "    .dataframe tbody tr th:only-of-type {\n",
       "        vertical-align: middle;\n",
       "    }\n",
       "\n",
       "    .dataframe tbody tr th {\n",
       "        vertical-align: top;\n",
       "    }\n",
       "\n",
       "    .dataframe thead th {\n",
       "        text-align: right;\n",
       "    }\n",
       "</style>\n",
       "<table border=\"1\" class=\"dataframe\">\n",
       "  <thead>\n",
       "    <tr style=\"text-align: right;\">\n",
       "      <th></th>\n",
       "      <th>Position Title</th>\n",
       "      <th>Department</th>\n",
       "      <th>Employee Annual Salary</th>\n",
       "    </tr>\n",
       "    <tr>\n",
       "      <th>Name</th>\n",
       "      <th></th>\n",
       "      <th></th>\n",
       "      <th></th>\n",
       "    </tr>\n",
       "  </thead>\n",
       "  <tbody>\n",
       "    <tr>\n",
       "      <th>AARON,  ELVIA J</th>\n",
       "      <td>WATER RATE TAKER</td>\n",
       "      <td>WATER MGMNT</td>\n",
       "      <td>$90744.00</td>\n",
       "    </tr>\n",
       "    <tr>\n",
       "      <th>AARON,  JEFFERY M</th>\n",
       "      <td>POLICE OFFICER</td>\n",
       "      <td>POLICE</td>\n",
       "      <td>$84450.00</td>\n",
       "    </tr>\n",
       "    <tr>\n",
       "      <th>AARON,  KARINA</th>\n",
       "      <td>POLICE OFFICER</td>\n",
       "      <td>POLICE</td>\n",
       "      <td>$84450.00</td>\n",
       "    </tr>\n",
       "  </tbody>\n",
       "</table>\n",
       "</div>"
      ],
      "text/plain": [
       "                     Position Title   Department Employee Annual Salary\n",
       "Name                                                                   \n",
       "AARON,  ELVIA J    WATER RATE TAKER  WATER MGMNT              $90744.00\n",
       "AARON,  JEFFERY M    POLICE OFFICER       POLICE              $84450.00\n",
       "AARON,  KARINA       POLICE OFFICER       POLICE              $84450.00"
      ]
     },
     "execution_count": 4,
     "metadata": {},
     "output_type": "execute_result"
    }
   ],
   "source": [
    "chicago = pd.read_csv('data/chicago.csv', index_col = 'Name').dropna(how = 'all')\n",
    "chicago['Department'] = chicago['Department'].astype('category')\n",
    "chicago.head(3)"
   ]
  },
  {
   "cell_type": "code",
   "execution_count": 6,
   "metadata": {},
   "outputs": [],
   "source": [
    "chicago.index = chicago.index.str.strip().str.title()"
   ]
  },
  {
   "cell_type": "code",
   "execution_count": 8,
   "metadata": {
    "collapsed": true
   },
   "outputs": [
    {
     "data": {
      "text/html": [
       "<div>\n",
       "<style scoped>\n",
       "    .dataframe tbody tr th:only-of-type {\n",
       "        vertical-align: middle;\n",
       "    }\n",
       "\n",
       "    .dataframe tbody tr th {\n",
       "        vertical-align: top;\n",
       "    }\n",
       "\n",
       "    .dataframe thead th {\n",
       "        text-align: right;\n",
       "    }\n",
       "</style>\n",
       "<table border=\"1\" class=\"dataframe\">\n",
       "  <thead>\n",
       "    <tr style=\"text-align: right;\">\n",
       "      <th></th>\n",
       "      <th>Position Title</th>\n",
       "      <th>Department</th>\n",
       "      <th>Employee Annual Salary</th>\n",
       "    </tr>\n",
       "    <tr>\n",
       "      <th>Name</th>\n",
       "      <th></th>\n",
       "      <th></th>\n",
       "      <th></th>\n",
       "    </tr>\n",
       "  </thead>\n",
       "  <tbody>\n",
       "    <tr>\n",
       "      <th>Aaron,  Elvia J</th>\n",
       "      <td>WATER RATE TAKER</td>\n",
       "      <td>WATER MGMNT</td>\n",
       "      <td>$90744.00</td>\n",
       "    </tr>\n",
       "    <tr>\n",
       "      <th>Aaron,  Jeffery M</th>\n",
       "      <td>POLICE OFFICER</td>\n",
       "      <td>POLICE</td>\n",
       "      <td>$84450.00</td>\n",
       "    </tr>\n",
       "    <tr>\n",
       "      <th>Aaron,  Karina</th>\n",
       "      <td>POLICE OFFICER</td>\n",
       "      <td>POLICE</td>\n",
       "      <td>$84450.00</td>\n",
       "    </tr>\n",
       "  </tbody>\n",
       "</table>\n",
       "</div>"
      ],
      "text/plain": [
       "                     Position Title   Department Employee Annual Salary\n",
       "Name                                                                   \n",
       "Aaron,  Elvia J    WATER RATE TAKER  WATER MGMNT              $90744.00\n",
       "Aaron,  Jeffery M    POLICE OFFICER       POLICE              $84450.00\n",
       "Aaron,  Karina       POLICE OFFICER       POLICE              $84450.00"
      ]
     },
     "execution_count": 8,
     "metadata": {},
     "output_type": "execute_result"
    }
   ],
   "source": [
    "chicago.head(3)"
   ]
  },
  {
   "cell_type": "code",
   "execution_count": 20,
   "metadata": {},
   "outputs": [
    {
     "data": {
      "text/plain": [
       "Index(['Position Title', 'Department', 'Employee Annual Salary'], dtype='object')"
      ]
     },
     "execution_count": 20,
     "metadata": {},
     "output_type": "execute_result"
    }
   ],
   "source": [
    "chicago.columns"
   ]
  },
  {
   "cell_type": "code",
   "execution_count": 11,
   "metadata": {},
   "outputs": [],
   "source": [
    "chicago.columns = chicago.columns.str.upper()"
   ]
  },
  {
   "cell_type": "code",
   "execution_count": 12,
   "metadata": {
    "collapsed": true
   },
   "outputs": [
    {
     "data": {
      "text/html": [
       "<div>\n",
       "<style scoped>\n",
       "    .dataframe tbody tr th:only-of-type {\n",
       "        vertical-align: middle;\n",
       "    }\n",
       "\n",
       "    .dataframe tbody tr th {\n",
       "        vertical-align: top;\n",
       "    }\n",
       "\n",
       "    .dataframe thead th {\n",
       "        text-align: right;\n",
       "    }\n",
       "</style>\n",
       "<table border=\"1\" class=\"dataframe\">\n",
       "  <thead>\n",
       "    <tr style=\"text-align: right;\">\n",
       "      <th></th>\n",
       "      <th>POSITION TITLE</th>\n",
       "      <th>DEPARTMENT</th>\n",
       "      <th>EMPLOYEE ANNUAL SALARY</th>\n",
       "    </tr>\n",
       "    <tr>\n",
       "      <th>Name</th>\n",
       "      <th></th>\n",
       "      <th></th>\n",
       "      <th></th>\n",
       "    </tr>\n",
       "  </thead>\n",
       "  <tbody>\n",
       "    <tr>\n",
       "      <th>Aaron,  Elvia J</th>\n",
       "      <td>WATER RATE TAKER</td>\n",
       "      <td>WATER MGMNT</td>\n",
       "      <td>$90744.00</td>\n",
       "    </tr>\n",
       "    <tr>\n",
       "      <th>Aaron,  Jeffery M</th>\n",
       "      <td>POLICE OFFICER</td>\n",
       "      <td>POLICE</td>\n",
       "      <td>$84450.00</td>\n",
       "    </tr>\n",
       "    <tr>\n",
       "      <th>Aaron,  Karina</th>\n",
       "      <td>POLICE OFFICER</td>\n",
       "      <td>POLICE</td>\n",
       "      <td>$84450.00</td>\n",
       "    </tr>\n",
       "  </tbody>\n",
       "</table>\n",
       "</div>"
      ],
      "text/plain": [
       "                     POSITION TITLE   DEPARTMENT EMPLOYEE ANNUAL SALARY\n",
       "Name                                                                   \n",
       "Aaron,  Elvia J    WATER RATE TAKER  WATER MGMNT              $90744.00\n",
       "Aaron,  Jeffery M    POLICE OFFICER       POLICE              $84450.00\n",
       "Aaron,  Karina       POLICE OFFICER       POLICE              $84450.00"
      ]
     },
     "execution_count": 12,
     "metadata": {},
     "output_type": "execute_result"
    }
   ],
   "source": [
    "chicago.head(3)"
   ]
  },
  {
   "cell_type": "markdown",
   "metadata": {},
   "source": [
    "# Split Strings by Characters with <i>.str.split()</i> Method"
   ]
  },
  {
   "cell_type": "code",
   "execution_count": 28,
   "metadata": {
    "collapsed": true
   },
   "outputs": [
    {
     "data": {
      "text/html": [
       "<div>\n",
       "<style scoped>\n",
       "    .dataframe tbody tr th:only-of-type {\n",
       "        vertical-align: middle;\n",
       "    }\n",
       "\n",
       "    .dataframe tbody tr th {\n",
       "        vertical-align: top;\n",
       "    }\n",
       "\n",
       "    .dataframe thead th {\n",
       "        text-align: right;\n",
       "    }\n",
       "</style>\n",
       "<table border=\"1\" class=\"dataframe\">\n",
       "  <thead>\n",
       "    <tr style=\"text-align: right;\">\n",
       "      <th></th>\n",
       "      <th>Name</th>\n",
       "      <th>Position Title</th>\n",
       "      <th>Department</th>\n",
       "      <th>Employee Annual Salary</th>\n",
       "    </tr>\n",
       "  </thead>\n",
       "  <tbody>\n",
       "    <tr>\n",
       "      <th>0</th>\n",
       "      <td>AARON,  ELVIA J</td>\n",
       "      <td>WATER RATE TAKER</td>\n",
       "      <td>WATER MGMNT</td>\n",
       "      <td>$90744.00</td>\n",
       "    </tr>\n",
       "    <tr>\n",
       "      <th>1</th>\n",
       "      <td>AARON,  JEFFERY M</td>\n",
       "      <td>POLICE OFFICER</td>\n",
       "      <td>POLICE</td>\n",
       "      <td>$84450.00</td>\n",
       "    </tr>\n",
       "    <tr>\n",
       "      <th>2</th>\n",
       "      <td>AARON,  KARINA</td>\n",
       "      <td>POLICE OFFICER</td>\n",
       "      <td>POLICE</td>\n",
       "      <td>$84450.00</td>\n",
       "    </tr>\n",
       "  </tbody>\n",
       "</table>\n",
       "</div>"
      ],
      "text/plain": [
       "                Name    Position Title   Department Employee Annual Salary\n",
       "0    AARON,  ELVIA J  WATER RATE TAKER  WATER MGMNT              $90744.00\n",
       "1  AARON,  JEFFERY M    POLICE OFFICER       POLICE              $84450.00\n",
       "2     AARON,  KARINA    POLICE OFFICER       POLICE              $84450.00"
      ]
     },
     "execution_count": 28,
     "metadata": {},
     "output_type": "execute_result"
    }
   ],
   "source": [
    "chicago = pd.read_csv('data/chicago.csv').dropna(how = 'all')\n",
    "chicago['Department'] = chicago['Department'].astype('category')\n",
    "chicago.head(3)"
   ]
  },
  {
   "cell_type": "code",
   "execution_count": 30,
   "metadata": {
    "collapsed": true
   },
   "outputs": [
    {
     "data": {
      "text/plain": [
       "0            [AARON,   ELVIA J]\n",
       "1          [AARON,   JEFFERY M]\n",
       "2             [AARON,   KARINA]\n",
       "3        [AARON,   KIMBERLEI R]\n",
       "4        [ABAD JR,   VICENTE M]\n",
       "                  ...          \n",
       "32057    [ZYGADLO,   MICHAEL J]\n",
       "32058     [ZYGOWICZ,   PETER J]\n",
       "32059      [ZYMANTAS,   MARK E]\n",
       "32060    [ZYRKOWSKI,   CARLO E]\n",
       "32061    [ZYSKOWSKI,   DARIUSZ]\n",
       "Name: Name, Length: 32062, dtype: object"
      ]
     },
     "execution_count": 30,
     "metadata": {},
     "output_type": "execute_result"
    }
   ],
   "source": [
    "chicago['Name'].str.split(',')"
   ]
  },
  {
   "cell_type": "code",
   "execution_count": 31,
   "metadata": {
    "collapsed": true
   },
   "outputs": [
    {
     "data": {
      "text/plain": [
       "0            AARON\n",
       "1            AARON\n",
       "2            AARON\n",
       "3            AARON\n",
       "4          ABAD JR\n",
       "           ...    \n",
       "32057      ZYGADLO\n",
       "32058     ZYGOWICZ\n",
       "32059     ZYMANTAS\n",
       "32060    ZYRKOWSKI\n",
       "32061    ZYSKOWSKI\n",
       "Name: Name, Length: 32062, dtype: object"
      ]
     },
     "execution_count": 31,
     "metadata": {},
     "output_type": "execute_result"
    }
   ],
   "source": [
    "chicago['Name'].str.split(',').str.get(0)"
   ]
  },
  {
   "cell_type": "code",
   "execution_count": 32,
   "metadata": {
    "collapsed": true
   },
   "outputs": [
    {
     "data": {
      "text/plain": [
       "0            Aaron\n",
       "1            Aaron\n",
       "2            Aaron\n",
       "3            Aaron\n",
       "4          Abad Jr\n",
       "           ...    \n",
       "32057      Zygadlo\n",
       "32058     Zygowicz\n",
       "32059     Zymantas\n",
       "32060    Zyrkowski\n",
       "32061    Zyskowski\n",
       "Name: Name, Length: 32062, dtype: object"
      ]
     },
     "execution_count": 32,
     "metadata": {},
     "output_type": "execute_result"
    }
   ],
   "source": [
    "chicago['Name'].str.split(',').str.get(0).str.title()"
   ]
  },
  {
   "cell_type": "code",
   "execution_count": 33,
   "metadata": {
    "collapsed": true
   },
   "outputs": [
    {
     "data": {
      "text/plain": [
       "Williams      293\n",
       "Johnson       244\n",
       "Smith         241\n",
       "Brown         185\n",
       "Jones         183\n",
       "             ... \n",
       "Milenkovic      1\n",
       "Jeongco         1\n",
       "Botich Jr       1\n",
       "Scudieri        1\n",
       "Delatorre       1\n",
       "Name: Name, Length: 13829, dtype: int64"
      ]
     },
     "execution_count": 33,
     "metadata": {},
     "output_type": "execute_result"
    }
   ],
   "source": [
    "chicago['Name'].str.split(',').str.get(0).str.title().value_counts()"
   ]
  },
  {
   "cell_type": "code",
   "execution_count": 34,
   "metadata": {
    "collapsed": true
   },
   "outputs": [
    {
     "data": {
      "text/plain": [
       "0                        [WATER, RATE, TAKER]\n",
       "1                           [POLICE, OFFICER]\n",
       "2                           [POLICE, OFFICER]\n",
       "3                [CHIEF, CONTRACT, EXPEDITER]\n",
       "4                       [CIVIL, ENGINEER, IV]\n",
       "                         ...                 \n",
       "32057    [FRM, OF, MACHINISTS, -, AUTOMOTIVE]\n",
       "32058                       [POLICE, OFFICER]\n",
       "32059                       [POLICE, OFFICER]\n",
       "32060                       [POLICE, OFFICER]\n",
       "32061            [CHIEF, DATA, BASE, ANALYST]\n",
       "Name: Position Title, Length: 32062, dtype: object"
      ]
     },
     "execution_count": 34,
     "metadata": {},
     "output_type": "execute_result"
    }
   ],
   "source": [
    "chicago['Position Title'].str.split(' ')"
   ]
  },
  {
   "cell_type": "code",
   "execution_count": 35,
   "metadata": {
    "collapsed": true
   },
   "outputs": [
    {
     "data": {
      "text/plain": [
       "0         WATER\n",
       "1        POLICE\n",
       "2        POLICE\n",
       "3         CHIEF\n",
       "4         CIVIL\n",
       "          ...  \n",
       "32057       FRM\n",
       "32058    POLICE\n",
       "32059    POLICE\n",
       "32060    POLICE\n",
       "32061     CHIEF\n",
       "Name: Position Title, Length: 32062, dtype: object"
      ]
     },
     "execution_count": 35,
     "metadata": {},
     "output_type": "execute_result"
    }
   ],
   "source": [
    "chicago['Position Title'].str.split(' ').str.get(0)"
   ]
  },
  {
   "cell_type": "code",
   "execution_count": 37,
   "metadata": {
    "collapsed": true
   },
   "outputs": [
    {
     "data": {
      "text/plain": [
       "POLICE              10856\n",
       "FIREFIGHTER-EMT      1509\n",
       "SERGEANT             1186\n",
       "POOL                  918\n",
       "FIREFIGHTER           810\n",
       "                    ...  \n",
       "DEVELOPMENT             1\n",
       "MOBILE                  1\n",
       "SUPERINTENDENT'S        1\n",
       "LOAN                    1\n",
       "VOLUNTEER               1\n",
       "Name: Position Title, Length: 320, dtype: int64"
      ]
     },
     "execution_count": 37,
     "metadata": {},
     "output_type": "execute_result"
    }
   ],
   "source": [
    "chicago['Position Title'].str.split(' ').str.get(0).value_counts()"
   ]
  },
  {
   "cell_type": "markdown",
   "metadata": {},
   "source": [
    "# More Practice with Splits"
   ]
  },
  {
   "cell_type": "code",
   "execution_count": 38,
   "metadata": {
    "collapsed": true
   },
   "outputs": [
    {
     "data": {
      "text/html": [
       "<div>\n",
       "<style scoped>\n",
       "    .dataframe tbody tr th:only-of-type {\n",
       "        vertical-align: middle;\n",
       "    }\n",
       "\n",
       "    .dataframe tbody tr th {\n",
       "        vertical-align: top;\n",
       "    }\n",
       "\n",
       "    .dataframe thead th {\n",
       "        text-align: right;\n",
       "    }\n",
       "</style>\n",
       "<table border=\"1\" class=\"dataframe\">\n",
       "  <thead>\n",
       "    <tr style=\"text-align: right;\">\n",
       "      <th></th>\n",
       "      <th>Name</th>\n",
       "      <th>Position Title</th>\n",
       "      <th>Department</th>\n",
       "      <th>Employee Annual Salary</th>\n",
       "    </tr>\n",
       "  </thead>\n",
       "  <tbody>\n",
       "    <tr>\n",
       "      <th>0</th>\n",
       "      <td>AARON,  ELVIA J</td>\n",
       "      <td>WATER RATE TAKER</td>\n",
       "      <td>WATER MGMNT</td>\n",
       "      <td>$90744.00</td>\n",
       "    </tr>\n",
       "    <tr>\n",
       "      <th>1</th>\n",
       "      <td>AARON,  JEFFERY M</td>\n",
       "      <td>POLICE OFFICER</td>\n",
       "      <td>POLICE</td>\n",
       "      <td>$84450.00</td>\n",
       "    </tr>\n",
       "    <tr>\n",
       "      <th>2</th>\n",
       "      <td>AARON,  KARINA</td>\n",
       "      <td>POLICE OFFICER</td>\n",
       "      <td>POLICE</td>\n",
       "      <td>$84450.00</td>\n",
       "    </tr>\n",
       "  </tbody>\n",
       "</table>\n",
       "</div>"
      ],
      "text/plain": [
       "                Name    Position Title   Department Employee Annual Salary\n",
       "0    AARON,  ELVIA J  WATER RATE TAKER  WATER MGMNT              $90744.00\n",
       "1  AARON,  JEFFERY M    POLICE OFFICER       POLICE              $84450.00\n",
       "2     AARON,  KARINA    POLICE OFFICER       POLICE              $84450.00"
      ]
     },
     "execution_count": 38,
     "metadata": {},
     "output_type": "execute_result"
    }
   ],
   "source": [
    "chicago = pd.read_csv('data/chicago.csv').dropna(how = 'all')\n",
    "chicago['Department'] = chicago['Department'].astype('category')\n",
    "chicago.head(3)"
   ]
  },
  {
   "cell_type": "code",
   "execution_count": 42,
   "metadata": {
    "collapsed": true
   },
   "outputs": [
    {
     "data": {
      "text/plain": [
       "0            ELVIA\n",
       "1          JEFFERY\n",
       "2           KARINA\n",
       "3        KIMBERLEI\n",
       "4          VICENTE\n",
       "           ...    \n",
       "32057      MICHAEL\n",
       "32058        PETER\n",
       "32059         MARK\n",
       "32060        CARLO\n",
       "32061      DARIUSZ\n",
       "Name: Name, Length: 32062, dtype: object"
      ]
     },
     "execution_count": 42,
     "metadata": {},
     "output_type": "execute_result"
    }
   ],
   "source": [
    "chicago['Name'].str.split(',').str.get(1).str.strip().str.split(' ').str.get(0)"
   ]
  },
  {
   "cell_type": "code",
   "execution_count": 44,
   "metadata": {
    "collapsed": true
   },
   "outputs": [
    {
     "data": {
      "text/plain": [
       "MICHAEL    1153\n",
       "JOHN        899\n",
       "JAMES       676\n",
       "ROBERT      622\n",
       "JOSEPH      537\n",
       "Name: Name, dtype: int64"
      ]
     },
     "execution_count": 44,
     "metadata": {},
     "output_type": "execute_result"
    }
   ],
   "source": [
    "chicago['Name'].str.split(',').str.get(1).str.strip().str.split(' ').str.get(0).value_counts().head()"
   ]
  },
  {
   "cell_type": "markdown",
   "metadata": {},
   "source": [
    "# The <i>expand</i> and <i>n</i> Parameters if the <i>.str.split()</i> Method"
   ]
  },
  {
   "cell_type": "code",
   "execution_count": 45,
   "metadata": {
    "collapsed": true
   },
   "outputs": [
    {
     "data": {
      "text/html": [
       "<div>\n",
       "<style scoped>\n",
       "    .dataframe tbody tr th:only-of-type {\n",
       "        vertical-align: middle;\n",
       "    }\n",
       "\n",
       "    .dataframe tbody tr th {\n",
       "        vertical-align: top;\n",
       "    }\n",
       "\n",
       "    .dataframe thead th {\n",
       "        text-align: right;\n",
       "    }\n",
       "</style>\n",
       "<table border=\"1\" class=\"dataframe\">\n",
       "  <thead>\n",
       "    <tr style=\"text-align: right;\">\n",
       "      <th></th>\n",
       "      <th>Name</th>\n",
       "      <th>Position Title</th>\n",
       "      <th>Department</th>\n",
       "      <th>Employee Annual Salary</th>\n",
       "    </tr>\n",
       "  </thead>\n",
       "  <tbody>\n",
       "    <tr>\n",
       "      <th>0</th>\n",
       "      <td>AARON,  ELVIA J</td>\n",
       "      <td>WATER RATE TAKER</td>\n",
       "      <td>WATER MGMNT</td>\n",
       "      <td>$90744.00</td>\n",
       "    </tr>\n",
       "    <tr>\n",
       "      <th>1</th>\n",
       "      <td>AARON,  JEFFERY M</td>\n",
       "      <td>POLICE OFFICER</td>\n",
       "      <td>POLICE</td>\n",
       "      <td>$84450.00</td>\n",
       "    </tr>\n",
       "    <tr>\n",
       "      <th>2</th>\n",
       "      <td>AARON,  KARINA</td>\n",
       "      <td>POLICE OFFICER</td>\n",
       "      <td>POLICE</td>\n",
       "      <td>$84450.00</td>\n",
       "    </tr>\n",
       "  </tbody>\n",
       "</table>\n",
       "</div>"
      ],
      "text/plain": [
       "                Name    Position Title   Department Employee Annual Salary\n",
       "0    AARON,  ELVIA J  WATER RATE TAKER  WATER MGMNT              $90744.00\n",
       "1  AARON,  JEFFERY M    POLICE OFFICER       POLICE              $84450.00\n",
       "2     AARON,  KARINA    POLICE OFFICER       POLICE              $84450.00"
      ]
     },
     "execution_count": 45,
     "metadata": {},
     "output_type": "execute_result"
    }
   ],
   "source": [
    "chicago = pd.read_csv('data/chicago.csv').dropna(how = 'all')\n",
    "chicago['Department'] = chicago['Department'].astype('category')\n",
    "chicago.head(3)"
   ]
  },
  {
   "cell_type": "code",
   "execution_count": 46,
   "metadata": {
    "collapsed": true
   },
   "outputs": [
    {
     "data": {
      "text/html": [
       "<div>\n",
       "<style scoped>\n",
       "    .dataframe tbody tr th:only-of-type {\n",
       "        vertical-align: middle;\n",
       "    }\n",
       "\n",
       "    .dataframe tbody tr th {\n",
       "        vertical-align: top;\n",
       "    }\n",
       "\n",
       "    .dataframe thead th {\n",
       "        text-align: right;\n",
       "    }\n",
       "</style>\n",
       "<table border=\"1\" class=\"dataframe\">\n",
       "  <thead>\n",
       "    <tr style=\"text-align: right;\">\n",
       "      <th></th>\n",
       "      <th>0</th>\n",
       "      <th>1</th>\n",
       "    </tr>\n",
       "  </thead>\n",
       "  <tbody>\n",
       "    <tr>\n",
       "      <th>0</th>\n",
       "      <td>AARON</td>\n",
       "      <td>ELVIA J</td>\n",
       "    </tr>\n",
       "    <tr>\n",
       "      <th>1</th>\n",
       "      <td>AARON</td>\n",
       "      <td>JEFFERY M</td>\n",
       "    </tr>\n",
       "    <tr>\n",
       "      <th>2</th>\n",
       "      <td>AARON</td>\n",
       "      <td>KARINA</td>\n",
       "    </tr>\n",
       "    <tr>\n",
       "      <th>3</th>\n",
       "      <td>AARON</td>\n",
       "      <td>KIMBERLEI R</td>\n",
       "    </tr>\n",
       "    <tr>\n",
       "      <th>4</th>\n",
       "      <td>ABAD JR</td>\n",
       "      <td>VICENTE M</td>\n",
       "    </tr>\n",
       "    <tr>\n",
       "      <th>...</th>\n",
       "      <td>...</td>\n",
       "      <td>...</td>\n",
       "    </tr>\n",
       "    <tr>\n",
       "      <th>32057</th>\n",
       "      <td>ZYGADLO</td>\n",
       "      <td>MICHAEL J</td>\n",
       "    </tr>\n",
       "    <tr>\n",
       "      <th>32058</th>\n",
       "      <td>ZYGOWICZ</td>\n",
       "      <td>PETER J</td>\n",
       "    </tr>\n",
       "    <tr>\n",
       "      <th>32059</th>\n",
       "      <td>ZYMANTAS</td>\n",
       "      <td>MARK E</td>\n",
       "    </tr>\n",
       "    <tr>\n",
       "      <th>32060</th>\n",
       "      <td>ZYRKOWSKI</td>\n",
       "      <td>CARLO E</td>\n",
       "    </tr>\n",
       "    <tr>\n",
       "      <th>32061</th>\n",
       "      <td>ZYSKOWSKI</td>\n",
       "      <td>DARIUSZ</td>\n",
       "    </tr>\n",
       "  </tbody>\n",
       "</table>\n",
       "<p>32062 rows × 2 columns</p>\n",
       "</div>"
      ],
      "text/plain": [
       "               0              1\n",
       "0          AARON        ELVIA J\n",
       "1          AARON      JEFFERY M\n",
       "2          AARON         KARINA\n",
       "3          AARON    KIMBERLEI R\n",
       "4        ABAD JR      VICENTE M\n",
       "...          ...            ...\n",
       "32057    ZYGADLO      MICHAEL J\n",
       "32058   ZYGOWICZ        PETER J\n",
       "32059   ZYMANTAS         MARK E\n",
       "32060  ZYRKOWSKI        CARLO E\n",
       "32061  ZYSKOWSKI        DARIUSZ\n",
       "\n",
       "[32062 rows x 2 columns]"
      ]
     },
     "execution_count": 46,
     "metadata": {},
     "output_type": "execute_result"
    }
   ],
   "source": [
    "chicago['Name'].str.split(',', expand = True)   # expand=True - Creates a DataFrame"
   ]
  },
  {
   "cell_type": "code",
   "execution_count": 47,
   "metadata": {},
   "outputs": [],
   "source": [
    "chicago[['First Name', 'Last Name']] = chicago['Name'].str.split(',', expand = True)"
   ]
  },
  {
   "cell_type": "code",
   "execution_count": 48,
   "metadata": {
    "collapsed": true
   },
   "outputs": [
    {
     "data": {
      "text/html": [
       "<div>\n",
       "<style scoped>\n",
       "    .dataframe tbody tr th:only-of-type {\n",
       "        vertical-align: middle;\n",
       "    }\n",
       "\n",
       "    .dataframe tbody tr th {\n",
       "        vertical-align: top;\n",
       "    }\n",
       "\n",
       "    .dataframe thead th {\n",
       "        text-align: right;\n",
       "    }\n",
       "</style>\n",
       "<table border=\"1\" class=\"dataframe\">\n",
       "  <thead>\n",
       "    <tr style=\"text-align: right;\">\n",
       "      <th></th>\n",
       "      <th>Name</th>\n",
       "      <th>Position Title</th>\n",
       "      <th>Department</th>\n",
       "      <th>Employee Annual Salary</th>\n",
       "      <th>First Name</th>\n",
       "      <th>Last Name</th>\n",
       "    </tr>\n",
       "  </thead>\n",
       "  <tbody>\n",
       "    <tr>\n",
       "      <th>0</th>\n",
       "      <td>AARON,  ELVIA J</td>\n",
       "      <td>WATER RATE TAKER</td>\n",
       "      <td>WATER MGMNT</td>\n",
       "      <td>$90744.00</td>\n",
       "      <td>AARON</td>\n",
       "      <td>ELVIA J</td>\n",
       "    </tr>\n",
       "    <tr>\n",
       "      <th>1</th>\n",
       "      <td>AARON,  JEFFERY M</td>\n",
       "      <td>POLICE OFFICER</td>\n",
       "      <td>POLICE</td>\n",
       "      <td>$84450.00</td>\n",
       "      <td>AARON</td>\n",
       "      <td>JEFFERY M</td>\n",
       "    </tr>\n",
       "    <tr>\n",
       "      <th>2</th>\n",
       "      <td>AARON,  KARINA</td>\n",
       "      <td>POLICE OFFICER</td>\n",
       "      <td>POLICE</td>\n",
       "      <td>$84450.00</td>\n",
       "      <td>AARON</td>\n",
       "      <td>KARINA</td>\n",
       "    </tr>\n",
       "    <tr>\n",
       "      <th>3</th>\n",
       "      <td>AARON,  KIMBERLEI R</td>\n",
       "      <td>CHIEF CONTRACT EXPEDITER</td>\n",
       "      <td>GENERAL SERVICES</td>\n",
       "      <td>$89880.00</td>\n",
       "      <td>AARON</td>\n",
       "      <td>KIMBERLEI R</td>\n",
       "    </tr>\n",
       "    <tr>\n",
       "      <th>4</th>\n",
       "      <td>ABAD JR,  VICENTE M</td>\n",
       "      <td>CIVIL ENGINEER IV</td>\n",
       "      <td>WATER MGMNT</td>\n",
       "      <td>$106836.00</td>\n",
       "      <td>ABAD JR</td>\n",
       "      <td>VICENTE M</td>\n",
       "    </tr>\n",
       "    <tr>\n",
       "      <th>...</th>\n",
       "      <td>...</td>\n",
       "      <td>...</td>\n",
       "      <td>...</td>\n",
       "      <td>...</td>\n",
       "      <td>...</td>\n",
       "      <td>...</td>\n",
       "    </tr>\n",
       "    <tr>\n",
       "      <th>32057</th>\n",
       "      <td>ZYGADLO,  MICHAEL J</td>\n",
       "      <td>FRM OF MACHINISTS - AUTOMOTIVE</td>\n",
       "      <td>GENERAL SERVICES</td>\n",
       "      <td>$99528.00</td>\n",
       "      <td>ZYGADLO</td>\n",
       "      <td>MICHAEL J</td>\n",
       "    </tr>\n",
       "    <tr>\n",
       "      <th>32058</th>\n",
       "      <td>ZYGOWICZ,  PETER J</td>\n",
       "      <td>POLICE OFFICER</td>\n",
       "      <td>POLICE</td>\n",
       "      <td>$87384.00</td>\n",
       "      <td>ZYGOWICZ</td>\n",
       "      <td>PETER J</td>\n",
       "    </tr>\n",
       "    <tr>\n",
       "      <th>32059</th>\n",
       "      <td>ZYMANTAS,  MARK E</td>\n",
       "      <td>POLICE OFFICER</td>\n",
       "      <td>POLICE</td>\n",
       "      <td>$84450.00</td>\n",
       "      <td>ZYMANTAS</td>\n",
       "      <td>MARK E</td>\n",
       "    </tr>\n",
       "    <tr>\n",
       "      <th>32060</th>\n",
       "      <td>ZYRKOWSKI,  CARLO E</td>\n",
       "      <td>POLICE OFFICER</td>\n",
       "      <td>POLICE</td>\n",
       "      <td>$87384.00</td>\n",
       "      <td>ZYRKOWSKI</td>\n",
       "      <td>CARLO E</td>\n",
       "    </tr>\n",
       "    <tr>\n",
       "      <th>32061</th>\n",
       "      <td>ZYSKOWSKI,  DARIUSZ</td>\n",
       "      <td>CHIEF DATA BASE ANALYST</td>\n",
       "      <td>DoIT</td>\n",
       "      <td>$113664.00</td>\n",
       "      <td>ZYSKOWSKI</td>\n",
       "      <td>DARIUSZ</td>\n",
       "    </tr>\n",
       "  </tbody>\n",
       "</table>\n",
       "<p>32062 rows × 6 columns</p>\n",
       "</div>"
      ],
      "text/plain": [
       "                      Name                  Position Title        Department  \\\n",
       "0          AARON,  ELVIA J                WATER RATE TAKER       WATER MGMNT   \n",
       "1        AARON,  JEFFERY M                  POLICE OFFICER            POLICE   \n",
       "2           AARON,  KARINA                  POLICE OFFICER            POLICE   \n",
       "3      AARON,  KIMBERLEI R        CHIEF CONTRACT EXPEDITER  GENERAL SERVICES   \n",
       "4      ABAD JR,  VICENTE M               CIVIL ENGINEER IV       WATER MGMNT   \n",
       "...                    ...                             ...               ...   \n",
       "32057  ZYGADLO,  MICHAEL J  FRM OF MACHINISTS - AUTOMOTIVE  GENERAL SERVICES   \n",
       "32058   ZYGOWICZ,  PETER J                  POLICE OFFICER            POLICE   \n",
       "32059    ZYMANTAS,  MARK E                  POLICE OFFICER            POLICE   \n",
       "32060  ZYRKOWSKI,  CARLO E                  POLICE OFFICER            POLICE   \n",
       "32061  ZYSKOWSKI,  DARIUSZ         CHIEF DATA BASE ANALYST              DoIT   \n",
       "\n",
       "      Employee Annual Salary First Name      Last Name  \n",
       "0                  $90744.00      AARON        ELVIA J  \n",
       "1                  $84450.00      AARON      JEFFERY M  \n",
       "2                  $84450.00      AARON         KARINA  \n",
       "3                  $89880.00      AARON    KIMBERLEI R  \n",
       "4                 $106836.00    ABAD JR      VICENTE M  \n",
       "...                      ...        ...            ...  \n",
       "32057              $99528.00    ZYGADLO      MICHAEL J  \n",
       "32058              $87384.00   ZYGOWICZ        PETER J  \n",
       "32059              $84450.00   ZYMANTAS         MARK E  \n",
       "32060              $87384.00  ZYRKOWSKI        CARLO E  \n",
       "32061             $113664.00  ZYSKOWSKI        DARIUSZ  \n",
       "\n",
       "[32062 rows x 6 columns]"
      ]
     },
     "execution_count": 48,
     "metadata": {},
     "output_type": "execute_result"
    }
   ],
   "source": [
    "chicago"
   ]
  },
  {
   "cell_type": "code",
   "execution_count": 50,
   "metadata": {
    "collapsed": true
   },
   "outputs": [
    {
     "data": {
      "text/html": [
       "<div>\n",
       "<style scoped>\n",
       "    .dataframe tbody tr th:only-of-type {\n",
       "        vertical-align: middle;\n",
       "    }\n",
       "\n",
       "    .dataframe tbody tr th {\n",
       "        vertical-align: top;\n",
       "    }\n",
       "\n",
       "    .dataframe thead th {\n",
       "        text-align: right;\n",
       "    }\n",
       "</style>\n",
       "<table border=\"1\" class=\"dataframe\">\n",
       "  <thead>\n",
       "    <tr style=\"text-align: right;\">\n",
       "      <th></th>\n",
       "      <th>0</th>\n",
       "      <th>1</th>\n",
       "      <th>2</th>\n",
       "      <th>3</th>\n",
       "      <th>4</th>\n",
       "      <th>5</th>\n",
       "      <th>6</th>\n",
       "      <th>7</th>\n",
       "      <th>8</th>\n",
       "    </tr>\n",
       "  </thead>\n",
       "  <tbody>\n",
       "    <tr>\n",
       "      <th>0</th>\n",
       "      <td>WATER</td>\n",
       "      <td>RATE</td>\n",
       "      <td>TAKER</td>\n",
       "      <td>None</td>\n",
       "      <td>None</td>\n",
       "      <td>None</td>\n",
       "      <td>None</td>\n",
       "      <td>None</td>\n",
       "      <td>None</td>\n",
       "    </tr>\n",
       "    <tr>\n",
       "      <th>1</th>\n",
       "      <td>POLICE</td>\n",
       "      <td>OFFICER</td>\n",
       "      <td>None</td>\n",
       "      <td>None</td>\n",
       "      <td>None</td>\n",
       "      <td>None</td>\n",
       "      <td>None</td>\n",
       "      <td>None</td>\n",
       "      <td>None</td>\n",
       "    </tr>\n",
       "    <tr>\n",
       "      <th>2</th>\n",
       "      <td>POLICE</td>\n",
       "      <td>OFFICER</td>\n",
       "      <td>None</td>\n",
       "      <td>None</td>\n",
       "      <td>None</td>\n",
       "      <td>None</td>\n",
       "      <td>None</td>\n",
       "      <td>None</td>\n",
       "      <td>None</td>\n",
       "    </tr>\n",
       "    <tr>\n",
       "      <th>3</th>\n",
       "      <td>CHIEF</td>\n",
       "      <td>CONTRACT</td>\n",
       "      <td>EXPEDITER</td>\n",
       "      <td>None</td>\n",
       "      <td>None</td>\n",
       "      <td>None</td>\n",
       "      <td>None</td>\n",
       "      <td>None</td>\n",
       "      <td>None</td>\n",
       "    </tr>\n",
       "    <tr>\n",
       "      <th>4</th>\n",
       "      <td>CIVIL</td>\n",
       "      <td>ENGINEER</td>\n",
       "      <td>IV</td>\n",
       "      <td>None</td>\n",
       "      <td>None</td>\n",
       "      <td>None</td>\n",
       "      <td>None</td>\n",
       "      <td>None</td>\n",
       "      <td>None</td>\n",
       "    </tr>\n",
       "    <tr>\n",
       "      <th>...</th>\n",
       "      <td>...</td>\n",
       "      <td>...</td>\n",
       "      <td>...</td>\n",
       "      <td>...</td>\n",
       "      <td>...</td>\n",
       "      <td>...</td>\n",
       "      <td>...</td>\n",
       "      <td>...</td>\n",
       "      <td>...</td>\n",
       "    </tr>\n",
       "    <tr>\n",
       "      <th>32057</th>\n",
       "      <td>FRM</td>\n",
       "      <td>OF</td>\n",
       "      <td>MACHINISTS</td>\n",
       "      <td>-</td>\n",
       "      <td>AUTOMOTIVE</td>\n",
       "      <td>None</td>\n",
       "      <td>None</td>\n",
       "      <td>None</td>\n",
       "      <td>None</td>\n",
       "    </tr>\n",
       "    <tr>\n",
       "      <th>32058</th>\n",
       "      <td>POLICE</td>\n",
       "      <td>OFFICER</td>\n",
       "      <td>None</td>\n",
       "      <td>None</td>\n",
       "      <td>None</td>\n",
       "      <td>None</td>\n",
       "      <td>None</td>\n",
       "      <td>None</td>\n",
       "      <td>None</td>\n",
       "    </tr>\n",
       "    <tr>\n",
       "      <th>32059</th>\n",
       "      <td>POLICE</td>\n",
       "      <td>OFFICER</td>\n",
       "      <td>None</td>\n",
       "      <td>None</td>\n",
       "      <td>None</td>\n",
       "      <td>None</td>\n",
       "      <td>None</td>\n",
       "      <td>None</td>\n",
       "      <td>None</td>\n",
       "    </tr>\n",
       "    <tr>\n",
       "      <th>32060</th>\n",
       "      <td>POLICE</td>\n",
       "      <td>OFFICER</td>\n",
       "      <td>None</td>\n",
       "      <td>None</td>\n",
       "      <td>None</td>\n",
       "      <td>None</td>\n",
       "      <td>None</td>\n",
       "      <td>None</td>\n",
       "      <td>None</td>\n",
       "    </tr>\n",
       "    <tr>\n",
       "      <th>32061</th>\n",
       "      <td>CHIEF</td>\n",
       "      <td>DATA</td>\n",
       "      <td>BASE</td>\n",
       "      <td>ANALYST</td>\n",
       "      <td>None</td>\n",
       "      <td>None</td>\n",
       "      <td>None</td>\n",
       "      <td>None</td>\n",
       "      <td>None</td>\n",
       "    </tr>\n",
       "  </tbody>\n",
       "</table>\n",
       "<p>32062 rows × 9 columns</p>\n",
       "</div>"
      ],
      "text/plain": [
       "            0         1           2        3           4     5     6     7  \\\n",
       "0       WATER      RATE       TAKER     None        None  None  None  None   \n",
       "1      POLICE   OFFICER        None     None        None  None  None  None   \n",
       "2      POLICE   OFFICER        None     None        None  None  None  None   \n",
       "3       CHIEF  CONTRACT   EXPEDITER     None        None  None  None  None   \n",
       "4       CIVIL  ENGINEER          IV     None        None  None  None  None   \n",
       "...       ...       ...         ...      ...         ...   ...   ...   ...   \n",
       "32057     FRM        OF  MACHINISTS        -  AUTOMOTIVE  None  None  None   \n",
       "32058  POLICE   OFFICER        None     None        None  None  None  None   \n",
       "32059  POLICE   OFFICER        None     None        None  None  None  None   \n",
       "32060  POLICE   OFFICER        None     None        None  None  None  None   \n",
       "32061   CHIEF      DATA        BASE  ANALYST        None  None  None  None   \n",
       "\n",
       "          8  \n",
       "0      None  \n",
       "1      None  \n",
       "2      None  \n",
       "3      None  \n",
       "4      None  \n",
       "...     ...  \n",
       "32057  None  \n",
       "32058  None  \n",
       "32059  None  \n",
       "32060  None  \n",
       "32061  None  \n",
       "\n",
       "[32062 rows x 9 columns]"
      ]
     },
     "execution_count": 50,
     "metadata": {},
     "output_type": "execute_result"
    }
   ],
   "source": [
    "chicago['Position Title'].str.split(\" \", expand=True)"
   ]
  },
  {
   "cell_type": "code",
   "execution_count": 54,
   "metadata": {},
   "outputs": [],
   "source": [
    "chicago[['First Title Word', 'Remaining Words']] = chicago['Position Title'].str.split(\" \", expand=True, n = 1)"
   ]
  },
  {
   "cell_type": "code",
   "execution_count": 55,
   "metadata": {
    "collapsed": true
   },
   "outputs": [
    {
     "data": {
      "text/html": [
       "<div>\n",
       "<style scoped>\n",
       "    .dataframe tbody tr th:only-of-type {\n",
       "        vertical-align: middle;\n",
       "    }\n",
       "\n",
       "    .dataframe tbody tr th {\n",
       "        vertical-align: top;\n",
       "    }\n",
       "\n",
       "    .dataframe thead th {\n",
       "        text-align: right;\n",
       "    }\n",
       "</style>\n",
       "<table border=\"1\" class=\"dataframe\">\n",
       "  <thead>\n",
       "    <tr style=\"text-align: right;\">\n",
       "      <th></th>\n",
       "      <th>Name</th>\n",
       "      <th>Position Title</th>\n",
       "      <th>Department</th>\n",
       "      <th>Employee Annual Salary</th>\n",
       "      <th>First Name</th>\n",
       "      <th>Last Name</th>\n",
       "      <th>First Title Word</th>\n",
       "      <th>Remaining Words</th>\n",
       "    </tr>\n",
       "  </thead>\n",
       "  <tbody>\n",
       "    <tr>\n",
       "      <th>0</th>\n",
       "      <td>AARON,  ELVIA J</td>\n",
       "      <td>WATER RATE TAKER</td>\n",
       "      <td>WATER MGMNT</td>\n",
       "      <td>$90744.00</td>\n",
       "      <td>AARON</td>\n",
       "      <td>ELVIA J</td>\n",
       "      <td>WATER</td>\n",
       "      <td>RATE TAKER</td>\n",
       "    </tr>\n",
       "    <tr>\n",
       "      <th>1</th>\n",
       "      <td>AARON,  JEFFERY M</td>\n",
       "      <td>POLICE OFFICER</td>\n",
       "      <td>POLICE</td>\n",
       "      <td>$84450.00</td>\n",
       "      <td>AARON</td>\n",
       "      <td>JEFFERY M</td>\n",
       "      <td>POLICE</td>\n",
       "      <td>OFFICER</td>\n",
       "    </tr>\n",
       "    <tr>\n",
       "      <th>2</th>\n",
       "      <td>AARON,  KARINA</td>\n",
       "      <td>POLICE OFFICER</td>\n",
       "      <td>POLICE</td>\n",
       "      <td>$84450.00</td>\n",
       "      <td>AARON</td>\n",
       "      <td>KARINA</td>\n",
       "      <td>POLICE</td>\n",
       "      <td>OFFICER</td>\n",
       "    </tr>\n",
       "    <tr>\n",
       "      <th>3</th>\n",
       "      <td>AARON,  KIMBERLEI R</td>\n",
       "      <td>CHIEF CONTRACT EXPEDITER</td>\n",
       "      <td>GENERAL SERVICES</td>\n",
       "      <td>$89880.00</td>\n",
       "      <td>AARON</td>\n",
       "      <td>KIMBERLEI R</td>\n",
       "      <td>CHIEF</td>\n",
       "      <td>CONTRACT EXPEDITER</td>\n",
       "    </tr>\n",
       "    <tr>\n",
       "      <th>4</th>\n",
       "      <td>ABAD JR,  VICENTE M</td>\n",
       "      <td>CIVIL ENGINEER IV</td>\n",
       "      <td>WATER MGMNT</td>\n",
       "      <td>$106836.00</td>\n",
       "      <td>ABAD JR</td>\n",
       "      <td>VICENTE M</td>\n",
       "      <td>CIVIL</td>\n",
       "      <td>ENGINEER IV</td>\n",
       "    </tr>\n",
       "    <tr>\n",
       "      <th>...</th>\n",
       "      <td>...</td>\n",
       "      <td>...</td>\n",
       "      <td>...</td>\n",
       "      <td>...</td>\n",
       "      <td>...</td>\n",
       "      <td>...</td>\n",
       "      <td>...</td>\n",
       "      <td>...</td>\n",
       "    </tr>\n",
       "    <tr>\n",
       "      <th>32057</th>\n",
       "      <td>ZYGADLO,  MICHAEL J</td>\n",
       "      <td>FRM OF MACHINISTS - AUTOMOTIVE</td>\n",
       "      <td>GENERAL SERVICES</td>\n",
       "      <td>$99528.00</td>\n",
       "      <td>ZYGADLO</td>\n",
       "      <td>MICHAEL J</td>\n",
       "      <td>FRM</td>\n",
       "      <td>OF MACHINISTS - AUTOMOTIVE</td>\n",
       "    </tr>\n",
       "    <tr>\n",
       "      <th>32058</th>\n",
       "      <td>ZYGOWICZ,  PETER J</td>\n",
       "      <td>POLICE OFFICER</td>\n",
       "      <td>POLICE</td>\n",
       "      <td>$87384.00</td>\n",
       "      <td>ZYGOWICZ</td>\n",
       "      <td>PETER J</td>\n",
       "      <td>POLICE</td>\n",
       "      <td>OFFICER</td>\n",
       "    </tr>\n",
       "    <tr>\n",
       "      <th>32059</th>\n",
       "      <td>ZYMANTAS,  MARK E</td>\n",
       "      <td>POLICE OFFICER</td>\n",
       "      <td>POLICE</td>\n",
       "      <td>$84450.00</td>\n",
       "      <td>ZYMANTAS</td>\n",
       "      <td>MARK E</td>\n",
       "      <td>POLICE</td>\n",
       "      <td>OFFICER</td>\n",
       "    </tr>\n",
       "    <tr>\n",
       "      <th>32060</th>\n",
       "      <td>ZYRKOWSKI,  CARLO E</td>\n",
       "      <td>POLICE OFFICER</td>\n",
       "      <td>POLICE</td>\n",
       "      <td>$87384.00</td>\n",
       "      <td>ZYRKOWSKI</td>\n",
       "      <td>CARLO E</td>\n",
       "      <td>POLICE</td>\n",
       "      <td>OFFICER</td>\n",
       "    </tr>\n",
       "    <tr>\n",
       "      <th>32061</th>\n",
       "      <td>ZYSKOWSKI,  DARIUSZ</td>\n",
       "      <td>CHIEF DATA BASE ANALYST</td>\n",
       "      <td>DoIT</td>\n",
       "      <td>$113664.00</td>\n",
       "      <td>ZYSKOWSKI</td>\n",
       "      <td>DARIUSZ</td>\n",
       "      <td>CHIEF</td>\n",
       "      <td>DATA BASE ANALYST</td>\n",
       "    </tr>\n",
       "  </tbody>\n",
       "</table>\n",
       "<p>32062 rows × 8 columns</p>\n",
       "</div>"
      ],
      "text/plain": [
       "                      Name                  Position Title        Department  \\\n",
       "0          AARON,  ELVIA J                WATER RATE TAKER       WATER MGMNT   \n",
       "1        AARON,  JEFFERY M                  POLICE OFFICER            POLICE   \n",
       "2           AARON,  KARINA                  POLICE OFFICER            POLICE   \n",
       "3      AARON,  KIMBERLEI R        CHIEF CONTRACT EXPEDITER  GENERAL SERVICES   \n",
       "4      ABAD JR,  VICENTE M               CIVIL ENGINEER IV       WATER MGMNT   \n",
       "...                    ...                             ...               ...   \n",
       "32057  ZYGADLO,  MICHAEL J  FRM OF MACHINISTS - AUTOMOTIVE  GENERAL SERVICES   \n",
       "32058   ZYGOWICZ,  PETER J                  POLICE OFFICER            POLICE   \n",
       "32059    ZYMANTAS,  MARK E                  POLICE OFFICER            POLICE   \n",
       "32060  ZYRKOWSKI,  CARLO E                  POLICE OFFICER            POLICE   \n",
       "32061  ZYSKOWSKI,  DARIUSZ         CHIEF DATA BASE ANALYST              DoIT   \n",
       "\n",
       "      Employee Annual Salary First Name      Last Name First Title Word  \\\n",
       "0                  $90744.00      AARON        ELVIA J            WATER   \n",
       "1                  $84450.00      AARON      JEFFERY M           POLICE   \n",
       "2                  $84450.00      AARON         KARINA           POLICE   \n",
       "3                  $89880.00      AARON    KIMBERLEI R            CHIEF   \n",
       "4                 $106836.00    ABAD JR      VICENTE M            CIVIL   \n",
       "...                      ...        ...            ...              ...   \n",
       "32057              $99528.00    ZYGADLO      MICHAEL J              FRM   \n",
       "32058              $87384.00   ZYGOWICZ        PETER J           POLICE   \n",
       "32059              $84450.00   ZYMANTAS         MARK E           POLICE   \n",
       "32060              $87384.00  ZYRKOWSKI        CARLO E           POLICE   \n",
       "32061             $113664.00  ZYSKOWSKI        DARIUSZ            CHIEF   \n",
       "\n",
       "                  Remaining Words  \n",
       "0                      RATE TAKER  \n",
       "1                         OFFICER  \n",
       "2                         OFFICER  \n",
       "3              CONTRACT EXPEDITER  \n",
       "4                     ENGINEER IV  \n",
       "...                           ...  \n",
       "32057  OF MACHINISTS - AUTOMOTIVE  \n",
       "32058                     OFFICER  \n",
       "32059                     OFFICER  \n",
       "32060                     OFFICER  \n",
       "32061           DATA BASE ANALYST  \n",
       "\n",
       "[32062 rows x 8 columns]"
      ]
     },
     "execution_count": 55,
     "metadata": {},
     "output_type": "execute_result"
    }
   ],
   "source": [
    "chicago"
   ]
  },
  {
   "cell_type": "code",
   "execution_count": null,
   "metadata": {},
   "outputs": [],
   "source": []
  },
  {
   "cell_type": "code",
   "execution_count": null,
   "metadata": {},
   "outputs": [],
   "source": []
  }
 ],
 "metadata": {
  "kernelspec": {
   "display_name": "Python 3",
   "language": "python",
   "name": "python3"
  },
  "language_info": {
   "codemirror_mode": {
    "name": "ipython",
    "version": 3
   },
   "file_extension": ".py",
   "mimetype": "text/x-python",
   "name": "python",
   "nbconvert_exporter": "python",
   "pygments_lexer": "ipython3",
   "version": "3.7.3"
  }
 },
 "nbformat": 4,
 "nbformat_minor": 4
}
